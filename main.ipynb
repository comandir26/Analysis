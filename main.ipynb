{
 "cells": [
  {
   "cell_type": "code",
   "execution_count": 1,
   "metadata": {},
   "outputs": [],
   "source": [
    "import pandas as pd"
   ]
  },
  {
   "cell_type": "code",
   "execution_count": 2,
   "metadata": {},
   "outputs": [],
   "source": [
    "import cv2"
   ]
  },
  {
   "cell_type": "code",
   "execution_count": 50,
   "metadata": {},
   "outputs": [],
   "source": [
    "import matplotlib.pyplot as plt\n",
    "import random"
   ]
  },
  {
   "cell_type": "code",
   "execution_count": 79,
   "metadata": {},
   "outputs": [],
   "source": [
    "from typing import List"
   ]
  },
  {
   "cell_type": "markdown",
   "metadata": {},
   "source": [
    "1, 2 пункты"
   ]
  },
  {
   "cell_type": "code",
   "execution_count": 8,
   "metadata": {},
   "outputs": [],
   "source": [
    "df = pd.read_csv('paths.csv', delimiter=',', usecols = (0, 2), names = ('AbsPath', 'Name'))"
   ]
  },
  {
   "cell_type": "code",
   "execution_count": 9,
   "metadata": {},
   "outputs": [
    {
     "data": {
      "text/html": [
       "<div>\n",
       "<style scoped>\n",
       "    .dataframe tbody tr th:only-of-type {\n",
       "        vertical-align: middle;\n",
       "    }\n",
       "\n",
       "    .dataframe tbody tr th {\n",
       "        vertical-align: top;\n",
       "    }\n",
       "\n",
       "    .dataframe thead th {\n",
       "        text-align: right;\n",
       "    }\n",
       "</style>\n",
       "<table border=\"1\" class=\"dataframe\">\n",
       "  <thead>\n",
       "    <tr style=\"text-align: right;\">\n",
       "      <th></th>\n",
       "      <th>AbsPath</th>\n",
       "      <th>Name</th>\n",
       "    </tr>\n",
       "  </thead>\n",
       "  <tbody>\n",
       "    <tr>\n",
       "      <th>0</th>\n",
       "      <td>C:\\Users\\WWolk\\Desktop\\DataProcessing\\dataset\\...</td>\n",
       "      <td>polarbear</td>\n",
       "    </tr>\n",
       "    <tr>\n",
       "      <th>1</th>\n",
       "      <td>C:\\Users\\WWolk\\Desktop\\DataProcessing\\dataset\\...</td>\n",
       "      <td>polarbear</td>\n",
       "    </tr>\n",
       "    <tr>\n",
       "      <th>2</th>\n",
       "      <td>C:\\Users\\WWolk\\Desktop\\DataProcessing\\dataset\\...</td>\n",
       "      <td>polarbear</td>\n",
       "    </tr>\n",
       "    <tr>\n",
       "      <th>3</th>\n",
       "      <td>C:\\Users\\WWolk\\Desktop\\DataProcessing\\dataset\\...</td>\n",
       "      <td>polarbear</td>\n",
       "    </tr>\n",
       "    <tr>\n",
       "      <th>4</th>\n",
       "      <td>C:\\Users\\WWolk\\Desktop\\DataProcessing\\dataset\\...</td>\n",
       "      <td>polarbear</td>\n",
       "    </tr>\n",
       "  </tbody>\n",
       "</table>\n",
       "</div>"
      ],
      "text/plain": [
       "                                             AbsPath       Name\n",
       "0  C:\\Users\\WWolk\\Desktop\\DataProcessing\\dataset\\...  polarbear\n",
       "1  C:\\Users\\WWolk\\Desktop\\DataProcessing\\dataset\\...  polarbear\n",
       "2  C:\\Users\\WWolk\\Desktop\\DataProcessing\\dataset\\...  polarbear\n",
       "3  C:\\Users\\WWolk\\Desktop\\DataProcessing\\dataset\\...  polarbear\n",
       "4  C:\\Users\\WWolk\\Desktop\\DataProcessing\\dataset\\...  polarbear"
      ]
     },
     "execution_count": 9,
     "metadata": {},
     "output_type": "execute_result"
    }
   ],
   "source": [
    "df.head()"
   ]
  },
  {
   "cell_type": "markdown",
   "metadata": {},
   "source": [
    "3 пункт"
   ]
  },
  {
   "cell_type": "code",
   "execution_count": 10,
   "metadata": {},
   "outputs": [],
   "source": [
    "df['Class'] = df['Name'].apply(lambda name: 0 if name == 'polarbear' else 1)"
   ]
  },
  {
   "cell_type": "code",
   "execution_count": 14,
   "metadata": {},
   "outputs": [
    {
     "data": {
      "text/html": [
       "<div>\n",
       "<style scoped>\n",
       "    .dataframe tbody tr th:only-of-type {\n",
       "        vertical-align: middle;\n",
       "    }\n",
       "\n",
       "    .dataframe tbody tr th {\n",
       "        vertical-align: top;\n",
       "    }\n",
       "\n",
       "    .dataframe thead th {\n",
       "        text-align: right;\n",
       "    }\n",
       "</style>\n",
       "<table border=\"1\" class=\"dataframe\">\n",
       "  <thead>\n",
       "    <tr style=\"text-align: right;\">\n",
       "      <th></th>\n",
       "      <th>AbsPath</th>\n",
       "      <th>Name</th>\n",
       "      <th>Class</th>\n",
       "    </tr>\n",
       "  </thead>\n",
       "  <tbody>\n",
       "    <tr>\n",
       "      <th>0</th>\n",
       "      <td>C:\\Users\\WWolk\\Desktop\\DataProcessing\\dataset\\...</td>\n",
       "      <td>polarbear</td>\n",
       "      <td>0</td>\n",
       "    </tr>\n",
       "    <tr>\n",
       "      <th>1</th>\n",
       "      <td>C:\\Users\\WWolk\\Desktop\\DataProcessing\\dataset\\...</td>\n",
       "      <td>polarbear</td>\n",
       "      <td>0</td>\n",
       "    </tr>\n",
       "    <tr>\n",
       "      <th>2</th>\n",
       "      <td>C:\\Users\\WWolk\\Desktop\\DataProcessing\\dataset\\...</td>\n",
       "      <td>polarbear</td>\n",
       "      <td>0</td>\n",
       "    </tr>\n",
       "    <tr>\n",
       "      <th>3</th>\n",
       "      <td>C:\\Users\\WWolk\\Desktop\\DataProcessing\\dataset\\...</td>\n",
       "      <td>polarbear</td>\n",
       "      <td>0</td>\n",
       "    </tr>\n",
       "    <tr>\n",
       "      <th>4</th>\n",
       "      <td>C:\\Users\\WWolk\\Desktop\\DataProcessing\\dataset\\...</td>\n",
       "      <td>polarbear</td>\n",
       "      <td>0</td>\n",
       "    </tr>\n",
       "  </tbody>\n",
       "</table>\n",
       "</div>"
      ],
      "text/plain": [
       "                                             AbsPath       Name  Class\n",
       "0  C:\\Users\\WWolk\\Desktop\\DataProcessing\\dataset\\...  polarbear      0\n",
       "1  C:\\Users\\WWolk\\Desktop\\DataProcessing\\dataset\\...  polarbear      0\n",
       "2  C:\\Users\\WWolk\\Desktop\\DataProcessing\\dataset\\...  polarbear      0\n",
       "3  C:\\Users\\WWolk\\Desktop\\DataProcessing\\dataset\\...  polarbear      0\n",
       "4  C:\\Users\\WWolk\\Desktop\\DataProcessing\\dataset\\...  polarbear      0"
      ]
     },
     "execution_count": 14,
     "metadata": {},
     "output_type": "execute_result"
    }
   ],
   "source": [
    "df.head()"
   ]
  },
  {
   "cell_type": "markdown",
   "metadata": {},
   "source": [
    "4 пункт"
   ]
  },
  {
   "cell_type": "code",
   "execution_count": 15,
   "metadata": {},
   "outputs": [],
   "source": [
    "df['Height'] = df['AbsPath'].apply(lambda path: cv2.imread(path).shape[0])"
   ]
  },
  {
   "cell_type": "code",
   "execution_count": 16,
   "metadata": {},
   "outputs": [],
   "source": [
    "df['Width'] = df['AbsPath'].apply(lambda path: cv2.imread(path).shape[1])"
   ]
  },
  {
   "cell_type": "code",
   "execution_count": 17,
   "metadata": {},
   "outputs": [],
   "source": [
    "df['Channel'] = df['AbsPath'].apply(lambda path: cv2.imread(path).shape[2])"
   ]
  },
  {
   "cell_type": "code",
   "execution_count": 19,
   "metadata": {},
   "outputs": [
    {
     "data": {
      "text/html": [
       "<div>\n",
       "<style scoped>\n",
       "    .dataframe tbody tr th:only-of-type {\n",
       "        vertical-align: middle;\n",
       "    }\n",
       "\n",
       "    .dataframe tbody tr th {\n",
       "        vertical-align: top;\n",
       "    }\n",
       "\n",
       "    .dataframe thead th {\n",
       "        text-align: right;\n",
       "    }\n",
       "</style>\n",
       "<table border=\"1\" class=\"dataframe\">\n",
       "  <thead>\n",
       "    <tr style=\"text-align: right;\">\n",
       "      <th></th>\n",
       "      <th>AbsPath</th>\n",
       "      <th>Name</th>\n",
       "      <th>Class</th>\n",
       "      <th>Height</th>\n",
       "      <th>Width</th>\n",
       "      <th>Channel</th>\n",
       "    </tr>\n",
       "  </thead>\n",
       "  <tbody>\n",
       "    <tr>\n",
       "      <th>0</th>\n",
       "      <td>C:\\Users\\WWolk\\Desktop\\DataProcessing\\dataset\\...</td>\n",
       "      <td>polarbear</td>\n",
       "      <td>0</td>\n",
       "      <td>2000</td>\n",
       "      <td>3000</td>\n",
       "      <td>3</td>\n",
       "    </tr>\n",
       "    <tr>\n",
       "      <th>1</th>\n",
       "      <td>C:\\Users\\WWolk\\Desktop\\DataProcessing\\dataset\\...</td>\n",
       "      <td>polarbear</td>\n",
       "      <td>0</td>\n",
       "      <td>1282</td>\n",
       "      <td>1920</td>\n",
       "      <td>3</td>\n",
       "    </tr>\n",
       "    <tr>\n",
       "      <th>2</th>\n",
       "      <td>C:\\Users\\WWolk\\Desktop\\DataProcessing\\dataset\\...</td>\n",
       "      <td>polarbear</td>\n",
       "      <td>0</td>\n",
       "      <td>1000</td>\n",
       "      <td>1500</td>\n",
       "      <td>3</td>\n",
       "    </tr>\n",
       "    <tr>\n",
       "      <th>3</th>\n",
       "      <td>C:\\Users\\WWolk\\Desktop\\DataProcessing\\dataset\\...</td>\n",
       "      <td>polarbear</td>\n",
       "      <td>0</td>\n",
       "      <td>1800</td>\n",
       "      <td>2700</td>\n",
       "      <td>3</td>\n",
       "    </tr>\n",
       "    <tr>\n",
       "      <th>4</th>\n",
       "      <td>C:\\Users\\WWolk\\Desktop\\DataProcessing\\dataset\\...</td>\n",
       "      <td>polarbear</td>\n",
       "      <td>0</td>\n",
       "      <td>2000</td>\n",
       "      <td>3000</td>\n",
       "      <td>3</td>\n",
       "    </tr>\n",
       "  </tbody>\n",
       "</table>\n",
       "</div>"
      ],
      "text/plain": [
       "                                             AbsPath       Name  Class  \\\n",
       "0  C:\\Users\\WWolk\\Desktop\\DataProcessing\\dataset\\...  polarbear      0   \n",
       "1  C:\\Users\\WWolk\\Desktop\\DataProcessing\\dataset\\...  polarbear      0   \n",
       "2  C:\\Users\\WWolk\\Desktop\\DataProcessing\\dataset\\...  polarbear      0   \n",
       "3  C:\\Users\\WWolk\\Desktop\\DataProcessing\\dataset\\...  polarbear      0   \n",
       "4  C:\\Users\\WWolk\\Desktop\\DataProcessing\\dataset\\...  polarbear      0   \n",
       "\n",
       "   Height  Width  Channel  \n",
       "0    2000   3000        3  \n",
       "1    1282   1920        3  \n",
       "2    1000   1500        3  \n",
       "3    1800   2700        3  \n",
       "4    2000   3000        3  "
      ]
     },
     "execution_count": 19,
     "metadata": {},
     "output_type": "execute_result"
    }
   ],
   "source": [
    "df.head()"
   ]
  },
  {
   "cell_type": "markdown",
   "metadata": {},
   "source": [
    "5 пункт"
   ]
  },
  {
   "cell_type": "code",
   "execution_count": 12,
   "metadata": {},
   "outputs": [
    {
     "data": {
      "text/plain": [
       "count    1003.000000\n",
       "mean     1196.925224\n",
       "std       478.634428\n",
       "min       442.000000\n",
       "25%       819.000000\n",
       "50%      1080.000000\n",
       "75%      1365.500000\n",
       "max      3000.000000\n",
       "Name: Height, dtype: float64"
      ]
     },
     "execution_count": 12,
     "metadata": {},
     "output_type": "execute_result"
    }
   ],
   "source": [
    "df[df['Class'] == 0]['Height'].describe()"
   ]
  },
  {
   "cell_type": "code",
   "execution_count": 13,
   "metadata": {},
   "outputs": [
    {
     "data": {
      "text/plain": [
       "count    1003.000000\n",
       "mean     1186.953141\n",
       "std       499.971271\n",
       "min       333.000000\n",
       "25%       800.000000\n",
       "50%      1080.000000\n",
       "75%      1378.500000\n",
       "max      3000.000000\n",
       "Name: Height, dtype: float64"
      ]
     },
     "execution_count": 13,
     "metadata": {},
     "output_type": "execute_result"
    }
   ],
   "source": [
    "df[df['Class'] == 1]['Height'].describe()"
   ]
  },
  {
   "cell_type": "code",
   "execution_count": 72,
   "metadata": {},
   "outputs": [],
   "source": [
    "df[df['Class'] == 0]['Width'].describe();"
   ]
  },
  {
   "cell_type": "code",
   "execution_count": 71,
   "metadata": {},
   "outputs": [],
   "source": [
    "df[df['Class'] == 1]['Width'].describe();"
   ]
  },
  {
   "cell_type": "code",
   "execution_count": 70,
   "metadata": {},
   "outputs": [],
   "source": [
    "df[df['Class'] == 0]['Channel'].describe();"
   ]
  },
  {
   "cell_type": "code",
   "execution_count": 69,
   "metadata": {},
   "outputs": [],
   "source": [
    "df[df['Class'] == 1]['Width'].describe();"
   ]
  },
  {
   "cell_type": "markdown",
   "metadata": {},
   "source": [
    "6 пункт"
   ]
  },
  {
   "cell_type": "code",
   "execution_count": 25,
   "metadata": {},
   "outputs": [],
   "source": [
    "def split_class(data: pd.DataFrame, class_name: int) -> pd.DataFrame:\n",
    "    \"\"\"\n",
    "    Возвращает датафрейм, состоящий из строк, для которых значение метки соответствует заданному\n",
    "    Parameters\n",
    "    ----------\n",
    "    data: pd.DataFrame\n",
    "      Исходный датафрейм\n",
    "    class_name : int\n",
    "      Метка класса\n",
    "    Returns\n",
    "    -------\n",
    "    pd.Dataframe\n",
    "    Отфильтрованный датафрейм\n",
    "    \"\"\"\n",
    "    return data[data['Class'] == class_name]"
   ]
  },
  {
   "cell_type": "code",
   "execution_count": 26,
   "metadata": {},
   "outputs": [],
   "source": [
    "df_0 = split_class(df, 0) \n",
    "df_1 = split_class(df, 1)"
   ]
  },
  {
   "cell_type": "code",
   "execution_count": 27,
   "metadata": {},
   "outputs": [
    {
     "data": {
      "text/html": [
       "<div>\n",
       "<style scoped>\n",
       "    .dataframe tbody tr th:only-of-type {\n",
       "        vertical-align: middle;\n",
       "    }\n",
       "\n",
       "    .dataframe tbody tr th {\n",
       "        vertical-align: top;\n",
       "    }\n",
       "\n",
       "    .dataframe thead th {\n",
       "        text-align: right;\n",
       "    }\n",
       "</style>\n",
       "<table border=\"1\" class=\"dataframe\">\n",
       "  <thead>\n",
       "    <tr style=\"text-align: right;\">\n",
       "      <th></th>\n",
       "      <th>AbsPath</th>\n",
       "      <th>Name</th>\n",
       "      <th>Class</th>\n",
       "      <th>Height</th>\n",
       "      <th>Width</th>\n",
       "      <th>Channel</th>\n",
       "    </tr>\n",
       "  </thead>\n",
       "  <tbody>\n",
       "    <tr>\n",
       "      <th>1003</th>\n",
       "      <td>C:\\Users\\WWolk\\Desktop\\DataProcessing\\dataset\\...</td>\n",
       "      <td>brownbear</td>\n",
       "      <td>1</td>\n",
       "      <td>1285</td>\n",
       "      <td>1920</td>\n",
       "      <td>3</td>\n",
       "    </tr>\n",
       "    <tr>\n",
       "      <th>1004</th>\n",
       "      <td>C:\\Users\\WWolk\\Desktop\\DataProcessing\\dataset\\...</td>\n",
       "      <td>brownbear</td>\n",
       "      <td>1</td>\n",
       "      <td>700</td>\n",
       "      <td>1120</td>\n",
       "      <td>3</td>\n",
       "    </tr>\n",
       "    <tr>\n",
       "      <th>1005</th>\n",
       "      <td>C:\\Users\\WWolk\\Desktop\\DataProcessing\\dataset\\...</td>\n",
       "      <td>brownbear</td>\n",
       "      <td>1</td>\n",
       "      <td>1800</td>\n",
       "      <td>2880</td>\n",
       "      <td>3</td>\n",
       "    </tr>\n",
       "    <tr>\n",
       "      <th>1006</th>\n",
       "      <td>C:\\Users\\WWolk\\Desktop\\DataProcessing\\dataset\\...</td>\n",
       "      <td>brownbear</td>\n",
       "      <td>1</td>\n",
       "      <td>1050</td>\n",
       "      <td>1680</td>\n",
       "      <td>3</td>\n",
       "    </tr>\n",
       "    <tr>\n",
       "      <th>1007</th>\n",
       "      <td>C:\\Users\\WWolk\\Desktop\\DataProcessing\\dataset\\...</td>\n",
       "      <td>brownbear</td>\n",
       "      <td>1</td>\n",
       "      <td>1200</td>\n",
       "      <td>1920</td>\n",
       "      <td>3</td>\n",
       "    </tr>\n",
       "  </tbody>\n",
       "</table>\n",
       "</div>"
      ],
      "text/plain": [
       "                                                AbsPath       Name  Class  \\\n",
       "1003  C:\\Users\\WWolk\\Desktop\\DataProcessing\\dataset\\...  brownbear      1   \n",
       "1004  C:\\Users\\WWolk\\Desktop\\DataProcessing\\dataset\\...  brownbear      1   \n",
       "1005  C:\\Users\\WWolk\\Desktop\\DataProcessing\\dataset\\...  brownbear      1   \n",
       "1006  C:\\Users\\WWolk\\Desktop\\DataProcessing\\dataset\\...  brownbear      1   \n",
       "1007  C:\\Users\\WWolk\\Desktop\\DataProcessing\\dataset\\...  brownbear      1   \n",
       "\n",
       "      Height  Width  Channel  \n",
       "1003    1285   1920        3  \n",
       "1004     700   1120        3  \n",
       "1005    1800   2880        3  \n",
       "1006    1050   1680        3  \n",
       "1007    1200   1920        3  "
      ]
     },
     "execution_count": 27,
     "metadata": {},
     "output_type": "execute_result"
    }
   ],
   "source": [
    "df_1.head()"
   ]
  },
  {
   "cell_type": "markdown",
   "metadata": {},
   "source": [
    "7 пункт"
   ]
  },
  {
   "cell_type": "code",
   "execution_count": 30,
   "metadata": {},
   "outputs": [],
   "source": [
    "def split_shape(data: pd.DataFrame, class_name: int, max_height: int, max_width: int) -> pd.DataFrame:\n",
    "    \"\"\"\n",
    "    Возвращает датафрейм, отфильтрованный по заданным параметрам\n",
    "    Parameters\n",
    "    ----------\n",
    "    data: pd.DataFrame\n",
    "      Исходный датафрейм\n",
    "    class_name : int\n",
    "      Метка класса\n",
    "    max_height: int\n",
    "      Верхняя граница диапазона для высоты\n",
    "    max_width: int\n",
    "      Верхняя граница диапазона для ширины\n",
    "    Returns\n",
    "    -------\n",
    "    pd.Dataframe\n",
    "    Отфильтрованный датафрейм\n",
    "    \"\"\"\n",
    "\n",
    "    return data[(data['Class'] == class_name) & (data['Height'] <= max_height) & (data['Width'] <= max_width)]"
   ]
  },
  {
   "cell_type": "code",
   "execution_count": 31,
   "metadata": {},
   "outputs": [],
   "source": [
    "df_0_filter = split_shape(df, 0, 1100, 1400)"
   ]
  },
  {
   "cell_type": "code",
   "execution_count": 34,
   "metadata": {},
   "outputs": [
    {
     "data": {
      "text/plain": [
       "1400"
      ]
     },
     "execution_count": 34,
     "metadata": {},
     "output_type": "execute_result"
    }
   ],
   "source": [
    "df_0_filter['Width'].max()"
   ]
  },
  {
   "cell_type": "markdown",
   "metadata": {},
   "source": [
    "8 пункт"
   ]
  },
  {
   "cell_type": "code",
   "execution_count": 37,
   "metadata": {},
   "outputs": [],
   "source": [
    "df['Pixels'] = df['Height'] * df['Width'] * df['Channel']"
   ]
  },
  {
   "cell_type": "code",
   "execution_count": 39,
   "metadata": {},
   "outputs": [
    {
     "data": {
      "text/html": [
       "<div>\n",
       "<style scoped>\n",
       "    .dataframe tbody tr th:only-of-type {\n",
       "        vertical-align: middle;\n",
       "    }\n",
       "\n",
       "    .dataframe tbody tr th {\n",
       "        vertical-align: top;\n",
       "    }\n",
       "\n",
       "    .dataframe thead th {\n",
       "        text-align: right;\n",
       "    }\n",
       "</style>\n",
       "<table border=\"1\" class=\"dataframe\">\n",
       "  <thead>\n",
       "    <tr style=\"text-align: right;\">\n",
       "      <th></th>\n",
       "      <th>AbsPath</th>\n",
       "      <th>Name</th>\n",
       "      <th>Class</th>\n",
       "      <th>Height</th>\n",
       "      <th>Width</th>\n",
       "      <th>Channel</th>\n",
       "      <th>Pixels</th>\n",
       "    </tr>\n",
       "  </thead>\n",
       "  <tbody>\n",
       "    <tr>\n",
       "      <th>0</th>\n",
       "      <td>C:\\Users\\WWolk\\Desktop\\DataProcessing\\dataset\\...</td>\n",
       "      <td>polarbear</td>\n",
       "      <td>0</td>\n",
       "      <td>2000</td>\n",
       "      <td>3000</td>\n",
       "      <td>3</td>\n",
       "      <td>18000000</td>\n",
       "    </tr>\n",
       "    <tr>\n",
       "      <th>1</th>\n",
       "      <td>C:\\Users\\WWolk\\Desktop\\DataProcessing\\dataset\\...</td>\n",
       "      <td>polarbear</td>\n",
       "      <td>0</td>\n",
       "      <td>1282</td>\n",
       "      <td>1920</td>\n",
       "      <td>3</td>\n",
       "      <td>7384320</td>\n",
       "    </tr>\n",
       "    <tr>\n",
       "      <th>2</th>\n",
       "      <td>C:\\Users\\WWolk\\Desktop\\DataProcessing\\dataset\\...</td>\n",
       "      <td>polarbear</td>\n",
       "      <td>0</td>\n",
       "      <td>1000</td>\n",
       "      <td>1500</td>\n",
       "      <td>3</td>\n",
       "      <td>4500000</td>\n",
       "    </tr>\n",
       "    <tr>\n",
       "      <th>3</th>\n",
       "      <td>C:\\Users\\WWolk\\Desktop\\DataProcessing\\dataset\\...</td>\n",
       "      <td>polarbear</td>\n",
       "      <td>0</td>\n",
       "      <td>1800</td>\n",
       "      <td>2700</td>\n",
       "      <td>3</td>\n",
       "      <td>14580000</td>\n",
       "    </tr>\n",
       "    <tr>\n",
       "      <th>4</th>\n",
       "      <td>C:\\Users\\WWolk\\Desktop\\DataProcessing\\dataset\\...</td>\n",
       "      <td>polarbear</td>\n",
       "      <td>0</td>\n",
       "      <td>2000</td>\n",
       "      <td>3000</td>\n",
       "      <td>3</td>\n",
       "      <td>18000000</td>\n",
       "    </tr>\n",
       "  </tbody>\n",
       "</table>\n",
       "</div>"
      ],
      "text/plain": [
       "                                             AbsPath       Name  Class  \\\n",
       "0  C:\\Users\\WWolk\\Desktop\\DataProcessing\\dataset\\...  polarbear      0   \n",
       "1  C:\\Users\\WWolk\\Desktop\\DataProcessing\\dataset\\...  polarbear      0   \n",
       "2  C:\\Users\\WWolk\\Desktop\\DataProcessing\\dataset\\...  polarbear      0   \n",
       "3  C:\\Users\\WWolk\\Desktop\\DataProcessing\\dataset\\...  polarbear      0   \n",
       "4  C:\\Users\\WWolk\\Desktop\\DataProcessing\\dataset\\...  polarbear      0   \n",
       "\n",
       "   Height  Width  Channel    Pixels  \n",
       "0    2000   3000        3  18000000  \n",
       "1    1282   1920        3   7384320  \n",
       "2    1000   1500        3   4500000  \n",
       "3    1800   2700        3  14580000  \n",
       "4    2000   3000        3  18000000  "
      ]
     },
     "execution_count": 39,
     "metadata": {},
     "output_type": "execute_result"
    }
   ],
   "source": [
    "df.head()"
   ]
  },
  {
   "cell_type": "code",
   "execution_count": 47,
   "metadata": {},
   "outputs": [
    {
     "name": "stdout",
     "output_type": "stream",
     "text": [
      "Class: 0\n",
      "Max: 26676000\n",
      "Min: 1080000\n",
      "Mean: 6915516.681954138\n",
      "-----------------------------\n",
      "Class: 1\n",
      "Max: 27000000\n",
      "Min: 499500\n",
      "Mean: 6884470.944167498\n",
      "-----------------------------\n"
     ]
    }
   ],
   "source": [
    "for class_name, sub_df in df.groupby(\"Class\"):\n",
    "    print(f'Class: {class_name}')\n",
    "    print(f'Max: {sub_df.Pixels.max()}')\n",
    "    print(f'Min: {sub_df.Pixels.min()}')\n",
    "    print(f'Mean: {sub_df.Pixels.mean()}')\n",
    "    print('-----------------------------')\n"
   ]
  },
  {
   "cell_type": "markdown",
   "metadata": {},
   "source": [
    "9 пункт"
   ]
  },
  {
   "cell_type": "code",
   "execution_count": 64,
   "metadata": {},
   "outputs": [],
   "source": [
    "def get_gists(data: pd.DataFrame, class_name: int) -> List[List[int]]:\n",
    "    \"\"\"\n",
    "    Возвращает 3 массива значений гистограммы по каждому каналу\n",
    "    Parameters\n",
    "    ----------\n",
    "    data: pd.DataFrame\n",
    "      Исходный датафрейм\n",
    "    class_name : int\n",
    "      Метка класса\n",
    "    Returns\n",
    "    -------\n",
    "    list\n",
    "    Массивы значений\n",
    "    \"\"\"\n",
    "    image = cv2.imread(data[data['Class'] == class_name]['AbsPath'][random.randint(0, 1002)])\n",
    "    hists = []\n",
    "    for i in range(2):\n",
    "        hist = cv2.calcHist([image], [i], None, [256], [0, 256])\n",
    "        hists.append(hist)\n",
    "    return hists"
   ]
  },
  {
   "cell_type": "markdown",
   "metadata": {},
   "source": [
    "10 пункт"
   ]
  },
  {
   "cell_type": "code",
   "execution_count": 65,
   "metadata": {},
   "outputs": [],
   "source": []
  }
 ],
 "metadata": {
  "kernelspec": {
   "display_name": "Python 3",
   "language": "python",
   "name": "python3"
  },
  "language_info": {
   "codemirror_mode": {
    "name": "ipython",
    "version": 3
   },
   "file_extension": ".py",
   "mimetype": "text/x-python",
   "name": "python",
   "nbconvert_exporter": "python",
   "pygments_lexer": "ipython3",
   "version": "3.11.6"
  }
 },
 "nbformat": 4,
 "nbformat_minor": 2
}
